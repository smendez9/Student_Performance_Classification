{
 "cells": [
  {
   "cell_type": "markdown",
   "id": "b7a9ce7e-61ae-4a94-87c2-1bcb7a9c9917",
   "metadata": {},
   "source": [
    "# Student Academic Performance Classification Model\n",
    "### Samuel Mendez"
   ]
  },
  {
   "cell_type": "markdown",
   "id": "20bdd330-da0f-4f97-8051-706058856991",
   "metadata": {},
   "source": [
    "In this notebook, I will analyze a Kaggle Dataset on student's academic performance. I will explore relationships between student's demographics, study habits, parental involvement, extracurricular activities, and academic performance. After EDA, I will build a machine-learning model to predict a student's GPA."
   ]
  },
  {
   "cell_type": "markdown",
   "id": "043e3fdd-96d8-40d5-ae93-c7160ec7b666",
   "metadata": {},
   "source": [
    "### Metadata\n",
    "\r",
    "* Student Information  \n",
    "* Student ID  \n",
    "* Demographic Details  \n",
    "* Study Habits  \n",
    "* Parental Involvement  \n",
    "* Extracurricular Activities  \n",
    "* Academic Performance  \n",
    "* Target Variable: Grade Class  \n",
    "* Student Information  \n",
    "* Student ID  \n",
    "* StudentID: A unique identifier assigned to each student (1001 to 3392).  \n",
    "* Demographic Details  \n",
    "* Age: The age of the students ranges from 15 to 18 years.  \n",
    "* Gender: Gender of the students, where 0 represents Male and 1 represents Female.  \n",
    "* Ethnicity: The ethnicity of the students, coded as follows:  \n",
    "0: Caucasian  \n",
    "1: African American  \n",
    "2: Asian  \n",
    "3: Other  \n",
    "* ParentalEducation: The education level of the parents, coded as follows:  \n",
    "0: None  \n",
    "1: High School  \n",
    "2: Some College  \n",
    "3: Bachelor's  \n",
    "4: Higher  \n",
    "* Study Habits  \n",
    "* StudyTimeWeekly: Weekly study time in hours, ranging from 0 to 20.  \n",
    "* Absences: Number of absences during the school year, ranging from 0 to 30.  \n",
    "* Tutoring: Tutoring status, where 0 indicates No and 1 indicates Yes.  \n",
    "* Parental Involvement  \n",
    "* ParentalSupport: The level of parental support, is coded as follows:  \n",
    "0: None  \n",
    "1: Low  \n",
    "2: Moderate  \n",
    "3: High  \n",
    "4: Very High  \n",
    "* Extracurricular Activities  \n",
    "- Extracurricular: Participation in extracurricular activities, where 0 indicates No and 1 indicates Yes.  \n",
    "* Sports: Participation in sports, where 0 indicates No and 1 indicates Yes.  \n",
    "* Music: Participation in music activities, where 0 indicates No and 1 indicates Yes.  \n",
    "* Volunteering: Participation in volunteering, where 0 indicates No and 1 indicates Yes.  \n",
    "* Academic Performance  \n",
    "* GPA: Grade Point Average on a scale from 2.0 to 4.0, influenced by study habits, parental involvement, and extracurricular activities.nvolvement, and extracurricular activities."
   ]
  },
  {
   "cell_type": "code",
   "execution_count": 1,
   "id": "71232544-5bc6-4144-a165-60535e7e201b",
   "metadata": {},
   "outputs": [],
   "source": [
    "# import packages\n",
    "import pandas as pd\n",
    "import numpy as np\n",
    "import seaborn as sns"
   ]
  },
  {
   "cell_type": "code",
   "execution_count": null,
   "id": "123d074b-ed07-4521-9d37-73e7c0c668e1",
   "metadata": {},
   "outputs": [],
   "source": [
    "# import the data \n"
   ]
  }
 ],
 "metadata": {
  "kernelspec": {
   "display_name": "Python 3 (ipykernel)",
   "language": "python",
   "name": "python3"
  },
  "language_info": {
   "codemirror_mode": {
    "name": "ipython",
    "version": 3
   },
   "file_extension": ".py",
   "mimetype": "text/x-python",
   "name": "python",
   "nbconvert_exporter": "python",
   "pygments_lexer": "ipython3",
   "version": "3.11.5"
  }
 },
 "nbformat": 4,
 "nbformat_minor": 5
}
